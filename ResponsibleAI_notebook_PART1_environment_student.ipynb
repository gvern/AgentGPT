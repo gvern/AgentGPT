{
  "nbformat": 4,
  "nbformat_minor": 0,
  "metadata": {
    "colab": {
      "provenance": [],
      "toc_visible": true,
      "machine_shape": "hm",
      "collapsed_sections": [
        "W78K51bajcDW",
        "steIBRc85-b3",
        "6QloFS946P5t"
      ],
      "include_colab_link": true
    },
    "kernelspec": {
      "name": "python3",
      "display_name": "Python 3"
    },
    "language_info": {
      "name": "python"
    },
    "gpuClass": "standard"
  },
  "cells": [
    {
      "cell_type": "markdown",
      "metadata": {
        "id": "view-in-github",
        "colab_type": "text"
      },
      "source": [
        "<a href=\"https://colab.research.google.com/github/gvern/AgentGPT/blob/main/ResponsibleAI_notebook_PART1_environment_student.ipynb\" target=\"_parent\"><img src=\"https://colab.research.google.com/assets/colab-badge.svg\" alt=\"Open In Colab\"/></a>"
      ]
    },
    {
      "cell_type": "markdown",
      "source": [
        "# Responsible AI - Notebook for the entire course\n",
        "\n",
        "Author : Marie Couvé"
      ],
      "metadata": {
        "id": "XUHPD4iwg4J7"
      }
    },
    {
      "cell_type": "markdown",
      "source": [
        "# Use case preparation"
      ],
      "metadata": {
        "id": "6xrh5Ls6jEt2"
      }
    },
    {
      "cell_type": "markdown",
      "source": [
        "## Problem statement\n",
        "\n",
        "Based on the Census data, **determine whether a person makes over $50,000 US Dollar a year**.\n",
        "\n",
        "The dataset is available here: https://archive.ics.uci.edu/dataset/2/adult\n"
      ],
      "metadata": {
        "id": "xG-VgOs4jTH6"
      }
    },
    {
      "cell_type": "markdown",
      "source": [
        "## Dataset description\n",
        "\n",
        "### Numeric Features\n",
        "*   `age`: The age of the individual in years.\n",
        "*   `fnlwgt`: The number of individuals the Census Organizations believes that set of observations represents.\n",
        "*   `education-num`:  An enumeration of the categorical representation of education. The higher the number, the higher the education that individual achieved. For example, an `education-num` of `11` represents `Assoc_voc` (associate degree at a vocational school), an `education_num` of `13` represents `Bachelors`, and an `education_num` of `9` represents `HS-grad` (high school graduate).\n",
        "*   `capital-gain`: Capital gain made by the individual, represented in US Dollars.\n",
        "*   `capital-loss`: Capital loss made by the individual, represented in US Dollars.\n",
        "*   `hours-per-week`: Hours worked per week.\n",
        "\n",
        "### Categorical Features\n",
        "*   `workclass`: The individual's type of employer. Examples include: `Private`, `Self-emp-not-inc`, `Self-emp-inc`, `Federal-gov`, `Local-gov`, `State-gov`, `Without-pay`, and `Never-worked`.\n",
        "*   `education`: The highest level of education achieved for that individual.\n",
        "*   `marital-status`: Marital status of the individual. Examples include: `Married-civ-spouse`, `Divorced`, `Never-married`, `Separated`, `Widowed`, `Married-spouse-absent`, and `Married-AF-spouse`.\n",
        "*   `occupation`: The occupation of the individual. Example include: `tech-support`, `Craft-repair`, `Other-service`, `Sales`, `Exec-managerial` and more.\n",
        "*   `relationship`:  The relationship of each individual in a household. Examples include: `Wife`, `Own-child`, `Husband`, `Not-in-family`, `Other-relative`, and `Unmarried`.\n",
        "*   `race`: `White`, `Asian-Pac-Islander`, `Amer-Indian-Eskimo`, `Black`, and `Other`.\n",
        "*   `sex`:  Gender of the individual available only in binary choices: `Female` or `Male`.\n",
        "*   `native-country`: Country of origin of the individual. Examples include: `United-States`, `Cambodia`, `England`, `Puerto-Rico`, `Canada`, `Germany`, `Outlying-US(Guam-USVI-etc)`, `India`, `Japan`, and more.\n",
        "\n",
        "### Label\n",
        "*   `income-per-year`: Whether the person makes more than $50,000 US Dollars annually.\n"
      ],
      "metadata": {
        "id": "EzXmFq5Vi6kJ"
      }
    },
    {
      "cell_type": "markdown",
      "source": [],
      "metadata": {
        "id": "hkVch8Zg3IM2"
      }
    },
    {
      "cell_type": "markdown",
      "source": [
        "# Let's start coding!"
      ],
      "metadata": {
        "id": "Tp7Bl87q57O5"
      }
    },
    {
      "cell_type": "markdown",
      "source": [
        "## Package installation\n",
        "\n",
        "\n",
        "\n"
      ],
      "metadata": {
        "id": "steIBRc85-b3"
      }
    },
    {
      "cell_type": "code",
      "source": [
        "! pip install codecarbon"
      ],
      "metadata": {
        "id": "DPIFne-H56LA"
      },
      "execution_count": null,
      "outputs": []
    },
    {
      "cell_type": "code",
      "source": [
        "! pip install dalex"
      ],
      "metadata": {
        "id": "Ndh-3H5NVSMd"
      },
      "execution_count": null,
      "outputs": []
    },
    {
      "cell_type": "code",
      "source": [
        "! pip install shap"
      ],
      "metadata": {
        "id": "U5TPiMXPpLok"
      },
      "execution_count": null,
      "outputs": []
    },
    {
      "cell_type": "code",
      "source": [
        "! pip install fairlearn"
      ],
      "metadata": {
        "id": "pwbkckI-1d-0"
      },
      "execution_count": null,
      "outputs": []
    },
    {
      "cell_type": "code",
      "source": [
        "! pip install ucimlrepo\n"
      ],
      "metadata": {
        "id": "XR_KNALG4t16"
      },
      "execution_count": null,
      "outputs": []
    },
    {
      "cell_type": "markdown",
      "source": [
        "## Imports"
      ],
      "metadata": {
        "id": "6QloFS946P5t"
      }
    },
    {
      "cell_type": "code",
      "source": [
        "# Remove warnings\n",
        "import warnings\n",
        "warnings.simplefilter(action='ignore', category=FutureWarning)\n",
        "\n",
        "# Generic\n",
        "import pandas as pd\n",
        "import numpy as np\n",
        "from copy import copy\n",
        "\n",
        "# Dataset\n",
        "from ucimlrepo import fetch_ucirepo\n",
        "\n",
        "# ML\n",
        "from sklearn.model_selection import train_test_split\n",
        "from sklearn.pipeline import Pipeline\n",
        "from sklearn.compose import make_column_transformer, make_column_selector\n",
        "from sklearn.preprocessing import StandardScaler, OneHotEncoder\n",
        "from sklearn.tree import DecisionTreeClassifier\n",
        "from sklearn.metrics import classification_report\n",
        "\n",
        "# Carbon impact\n",
        "from codecarbon import EmissionsTracker\n",
        "\n",
        "# Explainability\n",
        "import shap\n",
        "\n",
        "# Fairness\n",
        "import dalex as dx\n",
        "from dalex.fairness import resample\n",
        "from dalex.fairness import roc_pivot\n",
        "\n",
        "from fairlearn.reductions import ExponentiatedGradient\n",
        "from fairlearn.reductions import TruePositiveRateParity, DemographicParity, EqualizedOdds\n",
        "from fairlearn.postprocessing import ThresholdOptimizer, plot_threshold_optimizer\n",
        "\n"
      ],
      "metadata": {
        "id": "4VCmn17RhFkI"
      },
      "execution_count": null,
      "outputs": []
    },
    {
      "cell_type": "markdown",
      "source": [
        "# PART 1 - Environmental impact of AI\n",
        "\n",
        "We are going to use CodeCarbon to evaluate the carbon impact of AI.\n",
        "\n",
        "\n",
        "The documentation can be found here : https://mlco2.github.io/codecarbon/\n"
      ],
      "metadata": {
        "id": "AUu2zV-lEraE"
      }
    },
    {
      "cell_type": "markdown",
      "source": [
        "## Carbon tracking initialisation"
      ],
      "metadata": {
        "id": "PuUqbCtdELfA"
      }
    },
    {
      "cell_type": "code",
      "source": [
        "# Instantiate the tracker from Code Carbon\n",
        "\n",
        "# Start tracking\n"
      ],
      "metadata": {
        "id": "_dceIROS6mwR"
      },
      "execution_count": null,
      "outputs": []
    },
    {
      "cell_type": "markdown",
      "source": [
        "## Data preparation"
      ],
      "metadata": {
        "id": "QBSa3xl55v34"
      }
    },
    {
      "cell_type": "markdown",
      "source": [
        "### Load the dataset\n"
      ],
      "metadata": {
        "id": "Bg041wGX64Hu"
      }
    },
    {
      "cell_type": "code",
      "source": [
        "# Load data\n",
        "# Fetch dataset\n",
        "adult = fetch_ucirepo(id=2)\n",
        "\n",
        "# Get features and targets\n",
        "X = adult.data.features\n",
        "y = adult.data.targets\n",
        "\n",
        "# Combine in a single dataframe\n",
        "df_raw = pd.concat([X,y], axis=1)"
      ],
      "metadata": {
        "id": "N3sOS88NQX-w"
      },
      "execution_count": null,
      "outputs": []
    },
    {
      "cell_type": "code",
      "source": [
        "# First look at the data\n"
      ],
      "metadata": {
        "id": "gGNbgV8YmPN6"
      },
      "execution_count": null,
      "outputs": []
    },
    {
      "cell_type": "markdown",
      "source": [
        "### Data exploration\n",
        "\n",
        "Explore and analyze the data as necessary. You need to have a good understanding of each features and it's influence on the target.\n",
        "\n",
        "Some examples:\n",
        "- Look at the data types\n",
        "- Look at missing"
      ],
      "metadata": {
        "id": "aOkaLBI1-mDT"
      }
    },
    {
      "cell_type": "code",
      "source": [
        "# Explore the data\n"
      ],
      "metadata": {
        "id": "azcECPBN-gOO"
      },
      "execution_count": null,
      "outputs": []
    },
    {
      "cell_type": "code",
      "source": [
        "# Analyze the data\n"
      ],
      "metadata": {
        "id": "nwOy_nIe5xrT"
      },
      "execution_count": null,
      "outputs": []
    },
    {
      "cell_type": "markdown",
      "source": [
        "### Data cleaning\n",
        "\n",
        "Clean anything you have found during your exploration, such as:\n",
        "\n",
        "1. Remove the '.' in some of the values in the 'income' column\n",
        "2. ..."
      ],
      "metadata": {
        "id": "F4UF55SPCeKf"
      }
    },
    {
      "cell_type": "code",
      "source": [
        "# Clean the income column\n",
        "\n"
      ],
      "metadata": {
        "id": "2NJijiHHCdxZ"
      },
      "execution_count": null,
      "outputs": []
    },
    {
      "cell_type": "markdown",
      "source": [
        "### Data splitting and preprocessing\n",
        "\n",
        "1. Make a copy of the raw dataframe\n",
        "2. Binarize the target label (we suggest this mapping: >50K:1, <=50K:0). We suggest using: `df.map()`\n",
        "3. Split in train and test. We suggest: `train_test_split()`\n",
        "4. Preprocess your data using the preprocessor below. Try to get the columns name from the preprocessor and save the preprocessed data in a dataframe\n",
        "\n",
        "```\n",
        "X_train_preprocessed = ...\n",
        "X_test_preprocessed = ...\n",
        "```\n",
        "\n",
        "Preprocessor for the data:\n",
        "```\n",
        "preprocessor = make_column_transformer(\n",
        "    (\"passthrough\", make_column_selector(dtype_include=int)),\n",
        "    (StandardScaler(), make_column_selector(dtype_include=float)),\n",
        "    (OneHotEncoder(handle_unknown=\"ignore\", sparse=False), make_column_selector(dtype_include=object))\n",
        ")\n",
        "```\n",
        "\n",
        "What it does:\n",
        "- If the column is integer, no preprocessing\n",
        "- If the column is float, Standardize features by removing the mean and scaling to unit variance\n",
        "- If the column is categorical, Encode features as a one-hot numeric array\n"
      ],
      "metadata": {
        "id": "eUc5DX7lAHr4"
      }
    },
    {
      "cell_type": "code",
      "source": [
        "# Make a copy of the raw dataset\n"
      ],
      "metadata": {
        "id": "saYrvgToAaJU"
      },
      "execution_count": null,
      "outputs": []
    },
    {
      "cell_type": "code",
      "source": [
        "# Binarize label : >50K:1, <=50K:0\n",
        "\n",
        "\n",
        "# Drop the initial label column\n"
      ],
      "metadata": {
        "id": "PbRKeHWJAXF_"
      },
      "execution_count": null,
      "outputs": []
    },
    {
      "cell_type": "code",
      "source": [
        "# Train and test split\n"
      ],
      "metadata": {
        "id": "JRczgG7JAXGH"
      },
      "execution_count": null,
      "outputs": []
    },
    {
      "cell_type": "code",
      "source": [
        "# Preprocessing\n",
        "# Define preprocessor\n",
        "\n",
        "\n",
        "# Train preprocessor and transform data\n",
        "\n"
      ],
      "metadata": {
        "id": "CENa9sx9AXGH"
      },
      "execution_count": null,
      "outputs": []
    },
    {
      "cell_type": "markdown",
      "source": [
        "## Train a simple model\n",
        "\n",
        "1. Define and fit a simple model. We suggest a Decision Tree with a the parameters: max_depth=10, class_weight=\"balanced\"\n",
        "```\n",
        "clf_decisiontree_base = ...\n",
        "```\n",
        "2. Assess the algorithmic performance. You can use the `classification_report()` on test data\n"
      ],
      "metadata": {
        "id": "dyLwaDYdBCWy"
      }
    },
    {
      "cell_type": "markdown",
      "source": [
        "### Training and evaluation"
      ],
      "metadata": {
        "id": "7IzOz-19BCXF"
      }
    },
    {
      "cell_type": "code",
      "source": [
        "# Train a decision tree\n"
      ],
      "metadata": {
        "id": "kW-cPgqvBCXF"
      },
      "execution_count": null,
      "outputs": []
    },
    {
      "cell_type": "code",
      "source": [
        "# Algorithmic performance\n",
        "\n"
      ],
      "metadata": {
        "id": "0SM0jde3BCXG"
      },
      "execution_count": null,
      "outputs": []
    },
    {
      "cell_type": "markdown",
      "source": [
        "## Carbon tracking conclusion\n"
      ],
      "metadata": {
        "id": "7PV2Lpu-EWbZ"
      }
    },
    {
      "cell_type": "code",
      "source": [
        "# Stop the carbon tracker and print the carbon emissions\n",
        "\n"
      ],
      "metadata": {
        "id": "LAlQVmnj_qwx"
      },
      "execution_count": null,
      "outputs": []
    },
    {
      "cell_type": "markdown",
      "source": [
        "### Your analysis\n",
        "\n",
        "*How much carbon was emitted? Is it a lot? Compare it to references (km in car, km in plane...)*\n",
        "\n"
      ],
      "metadata": {
        "id": "o1nJJR2TpG6j"
      }
    },
    {
      "cell_type": "markdown",
      "source": [
        "## Bonus: Compare the carbon impact of different models\n",
        "\n",
        "Train other models and compare their performance and their carbon impacts"
      ],
      "metadata": {
        "id": "9wWQmmgvoeV4"
      }
    }
  ]
}